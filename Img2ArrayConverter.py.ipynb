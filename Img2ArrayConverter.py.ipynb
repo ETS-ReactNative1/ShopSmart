{
 "cells": [
  {
   "cell_type": "code",
   "execution_count": 11,
   "metadata": {
    "collapsed": true
   },
   "outputs": [],
   "source": [
    "from PIL import Image\n",
    "from numpy import*\n",
    "from pathfinding.core.grid import Grid\n",
    "from pathfinding.finder.a_star import AStarFinder\n",
    "from scipy.misc import imread, imsave"
   ]
  },
  {
   "cell_type": "code",
   "execution_count": 12,
   "metadata": {
    "collapsed": true
   },
   "outputs": [],
   "source": [
    "## Function to create a grid from a png image of the map. This must be a masked image from inkscape (black boxes \n",
    "## over everything that is not part of a valid path)\n",
    "\n",
    "def createGrid(imageFile, outputFile, shrinkFactor):\n",
    "    ## Defining 0 as obstacle, 1 as land \n",
    "\n",
    "    img = Image.open(imageFile)\n",
    "\n",
    "    basewidth = int(img.size[0]/shrinkFactor)\n",
    "    wpercent = (basewidth/float(img.size[0]))\n",
    "    \n",
    "    hsize = int((float(img.size[1])*float(wpercent)))\n",
    "    img = img.resize((basewidth,hsize), Image.ANTIALIAS)\n",
    "    img.save(outputFile) \n",
    "    \n",
    "    temp=asarray(Image.open(outputFile))\n",
    "    new_A=empty((temp.shape[0],temp.shape[1]),None)   \n",
    "\n",
    "    for y in range(len(new_A)):\n",
    "        for x in range(len(new_A[y])):\n",
    "            if temp[y][x][3]==255:\n",
    "                new_A[y][x]=0\n",
    "            else:\n",
    "                new_A[y][x]=1\n",
    "    \n",
    "    \n",
    "                \n",
    "    grid = Grid(matrix=new_A)\n",
    "    \n",
    "    return grid\n",
    "    \n",
    "\n",
    "    "
   ]
  },
  {
   "cell_type": "code",
   "execution_count": 13,
   "metadata": {
    "collapsed": true
   },
   "outputs": [],
   "source": [
    "## Create function to generate a path from one direction to another \n",
    "## Uses coordinates from SHRUNK image (shrinkFactor must be same as that used in the grid creation method)\n",
    "\n",
    "def generatePath(startX, startY, endX, endY, grid, shrinkFactor):\n",
    "    \n",
    "    start = grid.node(startX, startY)\n",
    "    end = grid.node(endX, endY)\n",
    "    \n",
    "    finder = AStarFinder()\n",
    "    path, runs = finder.find_path(start, end, grid)\n",
    "    \n",
    "    # Create a path that only considers turns \n",
    "    simplePath=[(startX * shrinkFactor, startY * shrinkFactor)]\n",
    "    \n",
    "    lastX = startX\n",
    "    lastY = startY\n",
    "    \n",
    "    if path:\n",
    "        for i in range(1, len(path)):\n",
    "            x = path[i][0]\n",
    "            y = path[i][1]\n",
    "        \n",
    "            if x is not lastX and y is not lastY:\n",
    "                lastX = x\n",
    "                lastY = y\n",
    "                simplePath.append((path[i-1][0] * shrinkFactor, path[i-1][1] * shrinkFactor))\n",
    "\n",
    "        simplePath.append((path[len(path)-1][0] * shrinkFactor, path[len(path)-1][1] * shrinkFactor))\n",
    "\n",
    "        d_string = \"\"\n",
    "\n",
    "\n",
    "        for x, y in simplePath[1:]:\n",
    "            move = \" \" + \"L \" + str(x) + \" \" + str(y)\n",
    "            d_string += move\n",
    "\n",
    "    else:\n",
    "        d_string = \"\"\n",
    "        \n",
    "        print(\"No path found\", startX, startY, endX, endY)\n",
    "  \n",
    "    \n",
    "    \n",
    "    return d_string, len(path) * shrinkFactor\n",
    "        \n"
   ]
  },
  {
   "cell_type": "code",
   "execution_count": 16,
   "metadata": {
    "collapsed": true
   },
   "outputs": [],
   "source": [
    "## Define pixel locations of item categories\n",
    "\n",
    "nodes = [\n",
    "         {\"type\": \"entrance\", \"x\": 148, \"y\": 223, \"key\": 0},\n",
    "         {\"type\": \"fruit\", \"x\": 85, \"y\": 66, \"key\": 1}, \n",
    "         {\"type\": \"bread\", \"x\": 26, \"y\": 37, \"key\": 2}, \n",
    "         {\"type\": \"alcohol\", \"x\": 172, \"y\": 38, \"key\": 3},\n",
    "         {\"type\": \"produce\", \"x\": 264, \"y\": 76, \"key\": 4},\n",
    "        ]\n",
    "\n",
    "## later probably add all keywords associated with each category "
   ]
  },
  {
   "cell_type": "code",
   "execution_count": 15,
   "metadata": {},
   "outputs": [],
   "source": [
    "## Write function to generate path and weight from each node to all others\n",
    "## Format: matrix[node1][node2] is the path FROM node1 TO node2\n",
    "\n",
    "def generatePathMatrix(nodes, inputImg, outputImg, shrinkFactor):\n",
    "    path_matrix = [[None for i in range(len(nodes))] for j in range(len(nodes))]\n",
    "    cost_matrix = [[None for i in range(len(nodes))] for j in range(len(nodes))]\n",
    "    \n",
    "    grid = createGrid(inputImg, outputImg, shrinkFactor)\n",
    "\n",
    "    \n",
    "    for row in range(len(path_matrix)):\n",
    "        for col in range(len(path_matrix)):\n",
    "            if row == col:\n",
    "                path_matrix[row][col] = \"\"\n",
    "                cost_matrix[row][col] = 0\n",
    "            else:\n",
    "                grid = createGrid(inputImg, outputImg, shrinkFactor)\n",
    "                path, distance = generatePath(nodes[row][\"x\"], nodes[row][\"y\"], nodes[col][\"x\"], nodes[col][\"y\"], grid, shrinkFactor) \n",
    "                path_matrix[row][col] = path\n",
    "                cost_matrix[row][col] = distance\n",
    "                \n",
    "    return path_matrix, cost_matrix\n",
    "path_matrix, cost_matrix = generatePathMatrix(nodes, \"Map3Mask.png\", \"SmallMap3Mask.png\", 10)\n"
   ]
  },
  {
   "cell_type": "code",
   "execution_count": 8,
   "metadata": {
    "collapsed": true
   },
   "outputs": [],
   "source": [
    "import json\n",
    "\n",
    "data = {\"paths\": path_matrix, \"costs\": cost_matrix, \"nodes\": nodes}\n",
    "\n",
    "with open('store1.json', 'w') as outfile:\n",
    "    json.dump(data, outfile, sort_keys=True, indent=4)"
   ]
  },
  {
   "cell_type": "code",
   "execution_count": null,
   "metadata": {
    "collapsed": true
   },
   "outputs": [],
   "source": []
  }
 ],
 "metadata": {
  "kernelspec": {
   "display_name": "Python 3",
   "language": "python",
   "name": "python3"
  },
  "language_info": {
   "codemirror_mode": {
    "name": "ipython",
    "version": 3
   },
   "file_extension": ".py",
   "mimetype": "text/x-python",
   "name": "python",
   "nbconvert_exporter": "python",
   "pygments_lexer": "ipython3",
   "version": "3.6.1"
  }
 },
 "nbformat": 4,
 "nbformat_minor": 2
}
